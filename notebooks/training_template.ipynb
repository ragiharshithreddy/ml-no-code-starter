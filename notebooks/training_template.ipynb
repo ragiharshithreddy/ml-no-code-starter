{
"nbformat": 4,
"nbformat_minor": 5,
"metadata": {
"kernelspec": {"name": "python3", "display_name": "Python 3"},
"language_info": {"name": "python"}
},
"cells": [
{
"cell_type": "markdown",
"metadata": {},
"source": [
"# Training Template\n",
"Use this Colab notebook to run AutoML (PyCaret) on your dataset. Mount Google Drive if you want to save outputs to Drive."
]
},
{
"cell_type": "code",
"metadata": {},
"source": [
"# Install dependencies (run this cell)\n",
"!pip install -q pycaret[full] ydata-profiling pandas\n",
"print('installed')"
]
},
{
"cell_type": "code",
"metadata": {},
"source": [
"from google.colab import drive\n",
"drive.mount('/content/drive')\n",
"print('Drive mounted; you can save outputs to /content/drive/MyDrive/...')"
]
},
{
"cell_type": "code",
"metadata": {},
"source": [
"# Load dataset - update path if needed\n",
"from pathlib import Path\n",
"import pandas as pd\n",
"dataset_path = '/content/drive/MyDrive/dataset.csv' # <-- EDIT if needed\n",
"df = pd.read_csv(dataset_path)\n",
"print('Loaded', df.shape)\n",
"df.head()"
]
},
{
"cell_type": "code",
"metadata": {},
"source": [
"# Choose task: 'classification' or 'regression'\n",
"task = 'classification' # <-- EDIT THIS based on your dataset\n",
"print('Task:', task)"
]
},
{
"cell_type": "code",
"metadata": {},
"source": [
"# Simple PyCaret flow (tabular)\n",
"from pycaret.classification import setup as cls_setup, compare_models as cls_compare, pull as cls_pull\n",
"from pycaret.regression import setup as reg_setup, compare_models as reg_compare, pull as reg_pull\n",
"if task == 'classification':\n",
" # You must set target column name below\n",
" target_col = 'target' # <-- EDIT this\n",
" s = cls_setup(data=df, target=target_col, silent=True, verbose=False)\n",
" best = cls_compare(n_select=3)\n",
" print(best)\n",
" try:\n",
" leaderboard = cls_pull()\n",
" display(leaderboard)\n",
" except Exception as e:\n",
" print('Could not pull leaderboard:', e)\n",
"else:\n",
" target_col = 'target' # <-- EDIT this\n",
" s = reg_setup(data=df, target=target_col, silent=True, verbose=False)\n",
" best = reg_compare(n_select=3)\n",
" print(best)\n",
" try:\n",
}
